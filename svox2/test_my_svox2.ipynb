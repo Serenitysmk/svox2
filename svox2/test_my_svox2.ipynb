{
 "cells": [
  {
   "cell_type": "code",
   "execution_count": 1,
   "id": "c6c27eb5-f755-4962-ae63-298e78539394",
   "metadata": {
    "tags": []
   },
   "outputs": [
    {
     "name": "stderr",
     "output_type": "stream",
     "text": [
      "/home/mshe/workspace/omv_src/svox2/svox2/utils.py:39: UserWarning: CUDA extension svox2.csrc could not be loaded! Operations will be slow.\n",
      "Please do not import svox in the svox2 source directory.\n",
      "  warn(\"CUDA extension svox2.csrc could not be loaded! \" +\n"
     ]
    }
   ],
   "source": [
    "import torch\n",
    "import numpy as np\n",
    "import svox2\n",
    "import svox2_my\n",
    "\n",
    "import matplotlib.pyplot as plt"
   ]
  },
  {
   "cell_type": "code",
   "execution_count": 2,
   "id": "885af08b-fa4c-404a-b2f1-9c6ac432f5c3",
   "metadata": {
    "tags": []
   },
   "outputs": [],
   "source": [
    "grid = svox2.SparseGrid(256, radius = [1., 1., 1.], center = [0., 0. ,0.], device='cpu')\n",
    "grid_my = svox2_my.SparseGrid(256, radius=[1., 1., 1.], center=[0., 0., 0], device='cpu')"
   ]
  },
  {
   "cell_type": "code",
   "execution_count": 3,
   "id": "8841e8d3-6b54-42f2-9b13-0828177d843c",
   "metadata": {
    "tags": []
   },
   "outputs": [
    {
     "name": "stdout",
     "output_type": "stream",
     "text": [
      "radius same? tensor([True, True, True])\n",
      "center same? tensor([True, True, True])\n",
      "_offset same? tensor([True, True, True])\n",
      "_scaling same? tensor([True, True, True])\n",
      "density data same? True\n",
      "links data: True\n",
      "sh data: True\n"
     ]
    }
   ],
   "source": [
    "print(f'radius same? {grid.radius == grid_my.radius}')\n",
    "print(f'center same? {grid.center == grid_my.center}')\n",
    "print(f'_offset same? {grid._offset == grid_my._offset}')\n",
    "print(f'_scaling same? {grid._scaling == grid_my._scaling}')\n",
    "print(f'density data same? {torch.all(grid.density_data == grid_my.density_data)}')\n",
    "print(f'links data: {torch.all(grid.links == grid_my.links)}')\n",
    "print(f'sh data: {torch.all(grid.sh_data == grid_my.sh_data)}')"
   ]
  },
  {
   "cell_type": "code",
   "execution_count": 4,
   "id": "557d2c80-d3a2-446c-b636-7f967dbd0ca3",
   "metadata": {
    "tags": []
   },
   "outputs": [],
   "source": [
    "# Now, test the load function\n",
    "path = \"/home/mshe/workspace/omv_src/svox2/opt/ckpt/lego-debug/ckpt.npz\"\n",
    "path = \"/home/mshe/workspace/omv_src/svox2/opt/ckpt/lego-debug/ckpt.npz\"\n",
    "grid = svox2.SparseGrid.load(path)\n",
    "grid_my = svox2_my.SparseGrid.load(path)"
   ]
  },
  {
   "cell_type": "code",
   "execution_count": 5,
   "id": "b1f17776-9987-4734-ac77-d2344c7a59e4",
   "metadata": {
    "tags": []
   },
   "outputs": [
    {
     "name": "stdout",
     "output_type": "stream",
     "text": [
      "radius same? tensor([True, True, True])\n",
      "center same? tensor([True, True, True])\n",
      "_offset same? tensor([True, True, True])\n",
      "_scaling same? tensor([True, True, True])\n",
      "density data same? True\n",
      "links data: True\n",
      "sh data: True\n"
     ]
    }
   ],
   "source": [
    "print(f'radius same? {grid.radius == grid_my.radius}')\n",
    "print(f'center same? {grid.center == grid_my.center}')\n",
    "print(f'_offset same? {grid._offset == grid_my._offset}')\n",
    "print(f'_scaling same? {grid._scaling == grid_my._scaling}')\n",
    "print(f'density data same? {torch.all(grid.density_data == grid_my.density_data)}')\n",
    "print(f'links data: {torch.all(grid.links == grid_my.links)}')\n",
    "print(f'sh data: {torch.all(grid.sh_data == grid_my.sh_data)}')"
   ]
  },
  {
   "cell_type": "code",
   "execution_count": 6,
   "id": "bd5a0908-1148-4d12-9001-fe9d2ec1c8dd",
   "metadata": {
    "tags": []
   },
   "outputs": [
    {
     "name": "stdout",
     "output_type": "stream",
     "text": [
      "offset: tensor([0.5000, 0.5000, 0.5000]), scale: tensor([0.0500, 0.0500, 0.0500])\n"
     ]
    }
   ],
   "source": [
    "radius = torch.tensor([10., 10., 10.])\n",
    "center = torch.tensor([0.0, 0.0, 0.0])\n",
    "offset = 0.5 * (1. - center / radius)\n",
    "scale = 0.5 / radius\n",
    "\n",
    "print(f'offset: {offset}, scale: {scale}')\n"
   ]
  },
  {
   "cell_type": "code",
   "execution_count": 7,
   "id": "2013639a-eacc-4cdb-8bfe-e035ad44d4a5",
   "metadata": {
    "tags": []
   },
   "outputs": [
    {
     "data": {
      "text/plain": [
       "(tensor([[255.5000, 255.5000, 255.5000]]),\n",
       " tensor([[255.5000, 255.5000, 255.5000]]))"
      ]
     },
     "execution_count": 7,
     "metadata": {},
     "output_type": "execute_result"
    }
   ],
   "source": [
    "point = torch.tensor([0.0, 0.0, 0.0]).unsqueeze(0)\n",
    "grid.world2grid(point), grid_my.world2grid(point)"
   ]
  },
  {
   "cell_type": "code",
   "execution_count": 8,
   "id": "c356a57b-a15f-4612-86c8-d5057b9f4fa2",
   "metadata": {
    "tags": []
   },
   "outputs": [
    {
     "data": {
      "text/plain": [
       "(True, True)"
      ]
     },
     "execution_count": 8,
     "metadata": {},
     "output_type": "execute_result"
    }
   ],
   "source": [
    "sample_sigma, sample_rgb = grid.sample(point)\n",
    "sample_sigma_my, sample_rgb_my = grid_my.sample(point)\n",
    "torch.allclose(sample_sigma, sample_sigma_my), torch.allclose(sample_sigma_my, sample_rgb_my)"
   ]
  },
  {
   "cell_type": "code",
   "execution_count": 18,
   "id": "a96ddbf3-4067-490e-8cc9-27a786c9f64f",
   "metadata": {
    "tags": []
   },
   "outputs": [
    {
     "data": {
      "text/plain": [
       "(torch.Size([512, 512, 512]), torch.Size([5386342, 1]))"
      ]
     },
     "execution_count": 18,
     "metadata": {},
     "output_type": "execute_result"
    }
   ],
   "source": [
    "# plot density data\n",
    "gsz = grid._grid_size()\n",
    "\n",
    "X = torch.arange(gsz[0], dtype=torch.float32) - 0.5\n",
    "Y = torch.arange(gsz[1], dtype=torch.float32) - 0.5\n",
    "Z = torch.arange(gsz[2], dtype=torch.float32) - 0.5\n",
    "X, Y, Z = torch.meshgrid(X, Y, Z)\n",
    "Z.shape, grid.density_data.shape"
   ]
  },
  {
   "cell_type": "code",
   "execution_count": 22,
   "id": "9eab8e97-ade5-4ead-a34c-4fef43fbc306",
   "metadata": {
    "tags": []
   },
   "outputs": [
    {
     "data": {
      "text/plain": [
       "tensor([[ 0.0000, 10.0000,  8.2000]])"
      ]
     },
     "execution_count": 22,
     "metadata": {},
     "output_type": "execute_result"
    }
   ],
   "source": [
    "point = torch.tensor([-0.3, 10.0, 8.2]).unsqueeze(0)\n",
    "point.clamp_min_(0.0)"
   ]
  },
  {
   "cell_type": "code",
   "execution_count": null,
   "id": "47bafe74-2d60-4fed-8359-9e015190eb50",
   "metadata": {},
   "outputs": [],
   "source": []
  }
 ],
 "metadata": {
  "kernelspec": {
   "display_name": "Python 3 (ipykernel)",
   "language": "python",
   "name": "python3"
  },
  "language_info": {
   "codemirror_mode": {
    "name": "ipython",
    "version": 3
   },
   "file_extension": ".py",
   "mimetype": "text/x-python",
   "name": "python",
   "nbconvert_exporter": "python",
   "pygments_lexer": "ipython3",
   "version": "3.8.8"
  }
 },
 "nbformat": 4,
 "nbformat_minor": 5
}
